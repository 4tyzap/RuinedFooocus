{
 "cells": [
  {
   "cell_type": "code",
   "execution_count": null,
   "metadata": {},
   "outputs": [],
   "source": [
    "%cd /content\n",
    "!git clone https://github.com/runew0lf/RuinedFooocus.git\n",
    "\n",
    "\n",
    "%cd /content/RuinedFooocus\n",
    "!git pull\n",
    "!pip install pygit2==1.12.2\n",
    "!python entry_with_update.py --share"
   ]
  }
 ],
 "metadata": {
  "language_info": {
   "name": "python"
  }
 },
 "nbformat": 4,
 "nbformat_minor": 2
}
